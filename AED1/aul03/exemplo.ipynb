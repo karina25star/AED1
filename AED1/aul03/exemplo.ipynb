{
 "cells": [
  {
   "cell_type": "code",
   "execution_count": 1,
   "id": "6682b7dd-d05c-4a34-851b-3f3cf3fc6203",
   "metadata": {},
   "outputs": [
    {
     "data": {
      "text/plain": [
       "5"
      ]
     },
     "execution_count": 1,
     "metadata": {},
     "output_type": "execute_result"
    }
   ],
   "source": [
    "2+3"
   ]
  },
  {
   "cell_type": "code",
   "execution_count": 3,
   "id": "ef6bf79b-d8ff-4e8d-b1b6-cd2dd26da8f8",
   "metadata": {},
   "outputs": [
    {
     "name": "stdout",
     "output_type": "stream",
     "text": [
      "olá mundo!\n"
     ]
    }
   ],
   "source": [
    "print(\"olá mundo!\")"
   ]
  },
  {
   "cell_type": "code",
   "execution_count": null,
   "id": "29328172-b90b-42af-8aba-574cb2a7cb86",
   "metadata": {},
   "outputs": [],
   "source": [
    "x = 70"
   ]
  },
  {
   "cell_type": "code",
   "execution_count": null,
   "id": "04ff893a-7ce2-4f7e-9a31-1777e072f2d7",
   "metadata": {},
   "outputs": [],
   "source": [
    "x"
   ]
  },
  {
   "cell_type": "code",
   "execution_count": null,
   "id": "41bf5c5e-f2d8-493a-8d3a-d00e9c198769",
   "metadata": {},
   "outputs": [],
   "source": [
    "y = 5"
   ]
  },
  {
   "cell_type": "code",
   "execution_count": null,
   "id": "c01b0b78-9afa-464d-83cb-625c3b229951",
   "metadata": {},
   "outputs": [],
   "source": [
    "print(x+y)"
   ]
  },
  {
   "cell_type": "code",
   "execution_count": null,
   "id": "9915ba79-1dc2-415d-a1bc-50e780d31e34",
   "metadata": {},
   "outputs": [],
   "source": [
    "nome = \"Maria\""
   ]
  },
  {
   "cell_type": "code",
   "execution_count": null,
   "id": "e6456ff9-3f2e-4e96-84e1-dda13e715d72",
   "metadata": {},
   "outputs": [],
   "source": [
    "idade = 25"
   ]
  },
  {
   "cell_type": "code",
   "execution_count": null,
   "id": "1a1b8354-0f7f-418c-8989-14a3d9ebae74",
   "metadata": {},
   "outputs": [],
   "source": [
    "print(nome, \"tem\", 25,\"anos!\")"
   ]
  },
  {
   "cell_type": "code",
   "execution_count": null,
   "id": "0655a48f-15a2-400f-b703-8ce7a2dd7511",
   "metadata": {},
   "outputs": [],
   "source": [
    "print(nome,\"tem\",25,\"anos!\")"
   ]
  },
  {
   "cell_type": "code",
   "execution_count": null,
   "id": "c01d1218-48f7-430d-bc63-e010d780693f",
   "metadata": {},
   "outputs": [],
   "source": [
    "nome= \"Maria\"\n",
    "idade= 25\n",
    "print(nome, \" tem \", idade, \" anos de vida!\")"
   ]
  },
  {
   "cell_type": "code",
   "execution_count": null,
   "id": "d6131f07-9031-4954-90ff-3610197329dc",
   "metadata": {},
   "outputs": [],
   "source": [
    "nome= \"Maria\"\n",
    "idade= 25\n",
    "print(nome,\" tem \", idade, \" anos de vida!\")"
   ]
  },
  {
   "cell_type": "code",
   "execution_count": null,
   "id": "55c91223-4b8e-4990-9dc7-9416de78901b",
   "metadata": {},
   "outputs": [],
   "source": [
    "type(x)"
   ]
  },
  {
   "cell_type": "code",
   "execution_count": null,
   "id": "46485fd9-10f9-41b7-9c1a-26d27f3a05ba",
   "metadata": {},
   "outputs": [],
   "source": [
    "r = 4.5"
   ]
  },
  {
   "cell_type": "code",
   "execution_count": null,
   "id": "3eda4646-8ca0-4e7e-b6e2-c742f31e6f4a",
   "metadata": {},
   "outputs": [],
   "source": [
    "type(r)"
   ]
  },
  {
   "cell_type": "code",
   "execution_count": null,
   "id": "6df62937-05ea-4697-add1-45626603c8b1",
   "metadata": {},
   "outputs": [],
   "source": []
  }
 ],
 "metadata": {
  "kernelspec": {
   "display_name": "Python [conda env:base] *",
   "language": "python",
   "name": "conda-base-py"
  },
  "language_info": {
   "codemirror_mode": {
    "name": "ipython",
    "version": 3
   },
   "file_extension": ".py",
   "mimetype": "text/x-python",
   "name": "python",
   "nbconvert_exporter": "python",
   "pygments_lexer": "ipython3",
   "version": "3.12.7"
  }
 },
 "nbformat": 4,
 "nbformat_minor": 5
}
