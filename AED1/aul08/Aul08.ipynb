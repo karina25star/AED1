{
 "cells": [
  {
   "cell_type": "markdown",
   "id": "a1550108-67b6-4e7a-8aa1-96b846e1cb04",
   "metadata": {},
   "source": [
    "#### Desenvolvimento de um Jogo de Adivinhar Números!\n",
    "**Como deve funcionar?**\n",
    "- o computador sorteia um número secreto dentro de um intervalo (ex: 1 a 50)\n",
    "- o jogador tenta adivinhar esse número.\n",
    "- A cada tentativa, o programa responde se o palpite do usuário é maior ou\n",
    "menor que o número secreto, até que o jogador acerte."
   ]
  },
  {
   "cell_type": "code",
   "execution_count": 2,
   "id": "bf935d70-1690-494f-b30b-ce865a6bfb51",
   "metadata": {},
   "outputs": [],
   "source": [
    "# Obter um número aleatório\n",
    "# Carregar a função randint() do pacote random\n",
    "from random import randint"
   ]
  },
  {
   "cell_type": "code",
   "execution_count": 80,
   "id": "78d0d055-66c3-4658-a9b3-728ba86e597e",
   "metadata": {},
   "outputs": [],
   "source": [
    "# Carregar em uma variável o valor aleatório\n",
    "n = randint(1, 100)"
   ]
  },
  {
   "cell_type": "code",
   "execution_count": 82,
   "id": "fad78ef6-130a-415c-ae6a-3f7047193f2c",
   "metadata": {},
   "outputs": [
    {
     "name": "stdout",
     "output_type": "stream",
     "text": [
      "50\n"
     ]
    }
   ],
   "source": [
    "# Mostrando o número aleatório\n",
    "print(n)"
   ]
  },
  {
   "cell_type": "code",
   "execution_count": null,
   "id": "0901c4d0-c0a9-495b-a388-8a3b9f5ef58b",
   "metadata": {},
   "outputs": [],
   "source": [
    "while True:\n",
    "    # Carregar em uma variável o valor aleatório\n",
    "    n = randint(1, 100)\n",
    "    while True:\n",
    "        # Solicita um palpite para o usuário\n",
    "        p = int(input(\"Digite um paplpite <entre 1 e 100:\"))\n",
    "        \n",
    "        # Compara o palpite com o número sorteado (aleatório)\n",
    "        d = abs (p - n)\n",
    "        if d > 5:\n",
    "            qf = \"FRIO\"\n",
    "        else:\n",
    "            qf = \"QUENTE\"\n",
    "        if p == n:\n",
    "            print(\"Parabéns! Você acertou!!\")\n",
    "            break\n",
    "        elif p > n:\n",
    "            print(\"Seu palpite foi maior. Tente um número menor!\")    \n",
    "        else:\n",
    "            print(\"Seu palpite foi menor. Tente um número maior!\")\n",
    "        print (\"Seu palpite está\", qf)\n",
    "    sn = input(\"Deseja continuar? S/N: \")\n",
    "    if sn == \"N\":\n",
    "        break\n",
    "    "
   ]
  },
  {
   "cell_type": "code",
   "execution_count": 66,
   "id": "40601018-2af2-4c2a-b854-36f8c45cea64",
   "metadata": {},
   "outputs": [
    {
     "name": "stdout",
     "output_type": "stream",
     "text": [
      "Parabéns! Você acertou!!\n"
     ]
    }
   ],
   "source": [
    "# Compara o palpite com o número sorteado (aleatório)\n",
    "\n",
    "if p == n:\n",
    "    print(\"Parabéns! Você acertou!!\")\n",
    "elif p > n:\n",
    "    print(\"Seu palpite foi maior. Tente um número menor!\")\n",
    "else:\n",
    "    print(\"Seu palpite foi menor. Tente um número maior!\")"
   ]
  },
  {
   "cell_type": "code",
   "execution_count": null,
   "id": "8b27c6db-5eb9-4835-80a0-e434f91b0124",
   "metadata": {},
   "outputs": [],
   "source": [
    "while True:\n",
    "\n",
    "    # Solicita um palpite para o usuário\n",
    "    p = int(input(\"Digite um paplpite <entre 1 e 50>:\"))\n",
    "    \n",
    "    # Compara o palpite com o número sorteado (aleatório)\n",
    "    if p == n:\n",
    "        print(\"Parabéns! Você acertou!!\")\n",
    "        break\n",
    "        \n",
    "    elif p > n:\n",
    "        print(\"Seu palpite foi maior. Tente um número menor!\")\n",
    "    else:\n",
    "        print(\"Seu palpite foi menor. Tente um número maior!\")"
   ]
  }
 ],
 "metadata": {
  "kernelspec": {
   "display_name": "Python [conda env:anaconda3]",
   "language": "python",
   "name": "conda-env-anaconda3-py"
  },
  "language_info": {
   "codemirror_mode": {
    "name": "ipython",
    "version": 3
   },
   "file_extension": ".py",
   "mimetype": "text/x-python",
   "name": "python",
   "nbconvert_exporter": "python",
   "pygments_lexer": "ipython3",
   "version": "3.13.5"
  }
 },
 "nbformat": 4,
 "nbformat_minor": 5
}
