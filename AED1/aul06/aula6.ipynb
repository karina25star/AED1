{
 "cells": [
  {
   "cell_type": "code",
   "execution_count": 36,
   "id": "d696043a-4214-4f02-8428-9ac245941294",
   "metadata": {},
   "outputs": [
    {
     "name": "stdin",
     "output_type": "stream",
     "text": [
      "Digite sua idade: 13\n"
     ]
    },
    {
     "name": "stdout",
     "output_type": "stream",
     "text": [
      "Vaza daqui menor!\n"
     ]
    }
   ],
   "source": [
    "idade = int(input(\"Digite sua idade:\"))\n",
    "if (idade >= 18):\n",
    "            print (\"Boa você é maior\")\n",
    "else:\n",
    "            print (\"Vaza daqui menor!\")"
   ]
  },
  {
   "cell_type": "code",
   "execution_count": 44,
   "id": "25d28d59-ca3f-4b4e-b6cd-9f3af98a2240",
   "metadata": {},
   "outputs": [
    {
     "name": "stdin",
     "output_type": "stream",
     "text": [
      "Entre com nota1: 6\n",
      "Entre com nota2: 4\n"
     ]
    },
    {
     "name": "stdout",
     "output_type": "stream",
     "text": [
      "5.0 Aprovado! Boas férias\n"
     ]
    }
   ],
   "source": [
    "nota1 = float(input(\"Entre com nota1:\"))\n",
    "nota2 = float(input(\"Entre com nota2:\"))\n",
    "media = (nota1 + nota2) / 2\n",
    "if (media >= 6):\n",
    "            print(media , \"Aprovado! Boas férias\")\n",
    "else:\n",
    "            print(media , \"Reprovado! Estude mais aí\")"
   ]
  },
  {
   "cell_type": "code",
   "execution_count": 56,
   "id": "6e971c78-0d10-4b35-89e7-847c385a5dd3",
   "metadata": {},
   "outputs": [
    {
     "name": "stdin",
     "output_type": "stream",
     "text": [
      "Nota:  0.6\n"
     ]
    },
    {
     "name": "stdout",
     "output_type": "stream",
     "text": [
      "Seu conceito é D\n"
     ]
    }
   ],
   "source": [
    "nota = float(input(\"Nota: \"))\n",
    "if (nota < 0) or (nota > 1):\n",
    "    print(\"Entrada Errada!\")\n",
    "elif nota >= 0.9:\n",
    "    print(\"Seu conceito é A\")\n",
    "elif nota >= 0.8:\n",
    "    print(\"Seu conceito é B\")\n",
    "elif nota >= 0.7:\n",
    "    print(\"Seu conceito é C\")\n",
    "elif nota >= 0.6:\n",
    "    print(\"Seu conceito é D\")\n",
    "else:\n",
    "    print(\"Seu conceito é F\")"
   ]
  },
  {
   "cell_type": "code",
   "execution_count": 113,
   "id": "db900f58-7d2d-4a6a-beee-2f3794d27e8a",
   "metadata": {},
   "outputs": [
    {
     "name": "stdin",
     "output_type": "stream",
     "text": [
      "Digite o primeiro número:  8.9\n",
      "Digite o segundo número:  7.2\n"
     ]
    },
    {
     "name": "stdout",
     "output_type": "stream",
     "text": [
      "8.9 É maior que 7.2\n"
     ]
    }
   ],
   "source": [
    "#Exercicio 0\n",
    "\n",
    "x = float(input(\"Digite o primeiro número: \"))\n",
    "y = float(input(\"Digite o segundo número: \"))\n",
    "\n",
    "if (x > y):\n",
    "    print (x , \"É maior que\" , y)\n",
    "elif x == y:\n",
    "    print (\"São iguais\")\n",
    "else:\n",
    "    print (y , \"É maior que\" , x)"
   ]
  },
  {
   "cell_type": "code",
   "execution_count": 119,
   "id": "99d34eda-1228-4390-b03b-af68d5452e01",
   "metadata": {},
   "outputs": [
    {
     "name": "stdin",
     "output_type": "stream",
     "text": [
      "Digite uma letra:  G\n"
     ]
    },
    {
     "name": "stdout",
     "output_type": "stream",
     "text": [
      "É uma consoante\n"
     ]
    }
   ],
   "source": [
    "#Exercicio 1\n",
    "letra = input(\"Digite uma letra: \")\n",
    "\n",
    "if letra in \"aeiouAEIOU\":\n",
    "    print(\"Vogal\")\n",
    "else:\n",
    "    print(\"É uma consoante\")"
   ]
  },
  {
   "cell_type": "code",
   "execution_count": 127,
   "id": "1bc83ed9-64ae-43dd-b8a5-454d0c4f9daf",
   "metadata": {},
   "outputs": [
    {
     "name": "stdin",
     "output_type": "stream",
     "text": [
      "Digite sua idade: 56\n"
     ]
    },
    {
     "name": "stdout",
     "output_type": "stream",
     "text": [
      "Você é sênior\n"
     ]
    }
   ],
   "source": [
    "#Exercicio 2\n",
    "nadador = int(input(\"Digite sua idade:\"))\n",
    "\n",
    "if (nadador <=7):\n",
    "    print (\"Você é infantil\")\n",
    "elif (nadador <=10):\n",
    "    print (\"Você é juvenil\")\n",
    "elif (nadador <= 15):\n",
    "    print (\"Você é adolescente\")\n",
    "elif (nadador <= 30):\n",
    "    print (\"Você é adulto\")\n",
    "else:\n",
    "    print (\"Você é sênior\")"
   ]
  },
  {
   "cell_type": "code",
   "execution_count": null,
   "id": "b9a1f7e2-d69c-4cab-ade8-569e0e1f2b8a",
   "metadata": {},
   "outputs": [],
   "source": []
  }
 ],
 "metadata": {
  "kernelspec": {
   "display_name": "Python [conda env:base] *",
   "language": "python",
   "name": "conda-base-py"
  },
  "language_info": {
   "codemirror_mode": {
    "name": "ipython",
    "version": 3
   },
   "file_extension": ".py",
   "mimetype": "text/x-python",
   "name": "python",
   "nbconvert_exporter": "python",
   "pygments_lexer": "ipython3",
   "version": "3.12.7"
  }
 },
 "nbformat": 4,
 "nbformat_minor": 5
}
