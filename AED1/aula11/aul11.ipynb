{
 "cells": [
  {
   "cell_type": "code",
   "execution_count": 1,
   "id": "169ff68d-fd6f-42e7-8fb5-96715d1d2a90",
   "metadata": {},
   "outputs": [
    {
     "name": "stdout",
     "output_type": "stream",
     "text": [
      "Data: 04/08/2025, Venda: 2350\n",
      "Data: 05/08/2025, Venda: 1980\n",
      "Data: 06/08/2025, Venda: 2540\n",
      "Data: 07/08/2025, Venda: 2100\n",
      "Data: 08/08/2025, Venda: 3050\n",
      "Data: 11/08/2025, Venda: 2650\n",
      "Data: 12/08/2025, Venda: 2180\n",
      "Data: 13/08/2025, Venda: 2760\n",
      "Data: 14/08/2025, Venda: 2920\n",
      "Data: 15/08/2025, Venda: 3100\n",
      "Data: 18/08/2025, Venda: 2300\n",
      "Data: 19/08/2025, Venda: 2430\n",
      "Data: 20/08/2025, Venda: 2210\n",
      "Data: 21/08/2025, Venda: 2790\n",
      "Data: 22/08/2025, Venda: 2970\n",
      "Data: 25/08/2025, Venda: 3100\n",
      "Data: 26/08/2025, Venda: 2880\n",
      "Data: 27/08/2025, Venda: 2600\n",
      "Data: 28/08/2025, Venda: 2500\n",
      "Data: 29/08/2025, Venda: 3400\n"
     ]
    }
   ],
   "source": [
    "# Separando a chave e o valor de um dicionario\n",
    "\n",
    "vendas_agosto = {\n",
    "    \"04/08/2025\": 2350,\n",
    "    \"05/08/2025\": 1980,\n",
    "    \"06/08/2025\": 2540,\n",
    "    \"07/08/2025\": 2100,\n",
    "    \"08/08/2025\": 3050,\n",
    "    \"11/08/2025\": 2650,\n",
    "    \"12/08/2025\": 2180,\n",
    "    \"13/08/2025\": 2760,\n",
    "    \"14/08/2025\": 2920,\n",
    "    \"15/08/2025\": 3100,\n",
    "    \"18/08/2025\": 2300,\n",
    "    \"19/08/2025\": 2430,\n",
    "    \"20/08/2025\": 2210,\n",
    "    \"21/08/2025\": 2790,\n",
    "    \"22/08/2025\": 2970,\n",
    "    \"25/08/2025\": 3100,\n",
    "    \"26/08/2025\": 2880,\n",
    "    \"27/08/2025\": 2600,\n",
    "    \"28/08/2025\": 2500,\n",
    "    \"29/08/2025\": 3400\n",
    "}\n",
    "\n",
    "for data, venda in vendas_agosto.items():\n",
    "    print (f\"Data: {data}, Venda: {venda}\")"
   ]
  },
  {
   "cell_type": "code",
   "execution_count": null,
   "id": "062e8ec8-0c96-4cc6-b3c8-3d3a256f43be",
   "metadata": {},
   "outputs": [],
   "source": [
    "data "
   ]
  }
 ],
 "metadata": {
  "kernelspec": {
   "display_name": "Python [conda env:anaconda3]",
   "language": "python",
   "name": "conda-env-anaconda3-py"
  },
  "language_info": {
   "codemirror_mode": {
    "name": "ipython",
    "version": 3
   },
   "file_extension": ".py",
   "mimetype": "text/x-python",
   "name": "python",
   "nbconvert_exporter": "python",
   "pygments_lexer": "ipython3",
   "version": "3.13.5"
  }
 },
 "nbformat": 4,
 "nbformat_minor": 5
}
