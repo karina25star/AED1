{
 "cells": [
  {
   "cell_type": "code",
   "execution_count": 1,
   "id": "ef4e3f51-4c85-4e68-bbda-d4d55c355b7e",
   "metadata": {},
   "outputs": [
    {
     "name": "stdout",
     "output_type": "stream",
     "text": [
      "Olá!\n",
      "Olá!\n",
      "Olá!\n",
      "Olá!\n",
      "Olá!\n"
     ]
    }
   ],
   "source": [
    "for i in range (1,6):\n",
    "    print(\"Olá!\")   "
   ]
  },
  {
   "cell_type": "code",
   "execution_count": 5,
   "id": "86b6c111-696a-4d3f-acb8-b46261a5740f",
   "metadata": {},
   "outputs": [
    {
     "name": "stdout",
     "output_type": "stream",
     "text": [
      "10\n",
      "9\n",
      "8\n",
      "7\n",
      "6\n",
      "5\n",
      "4\n",
      "3\n",
      "2\n",
      "1\n"
     ]
    }
   ],
   "source": [
    "# contagem regressiva de 10 a 1\n",
    "for i in range (10, 0, -1):\n",
    "    print(i)  "
   ]
  },
  {
   "cell_type": "code",
   "execution_count": 13,
   "id": "a37395d5-b40f-41ac-a093-6af49672735b",
   "metadata": {},
   "outputs": [
    {
     "name": "stdin",
     "output_type": "stream",
     "text": [
      "Digite o valor de n:  5\n"
     ]
    },
    {
     "name": "stdout",
     "output_type": "stream",
     "text": [
      "O fatorial de  5 é igual a 120\n"
     ]
    }
   ],
   "source": [
    "n = int(input(\"Digite o valor de n: \"))\n",
    "fat = 1\n",
    "if n < 0:\n",
    "    print(\"Fatorial não existe!\")\n",
    "elif n == 0:\n",
    "    print(\"Fatorial é igual a 1\")\n",
    "else:\n",
    "    for i in range(1, n+1):\n",
    "        fat = fat * i\n",
    "print(\"O fatorial de \", n, \"é igual a\", fat)"
   ]
  },
  {
   "cell_type": "code",
   "execution_count": 15,
   "id": "07db0776-7455-4a92-a4d9-75511a51a19c",
   "metadata": {},
   "outputs": [
    {
     "name": "stdin",
     "output_type": "stream",
     "text": [
      "Digite o numero:  8\n"
     ]
    },
    {
     "name": "stdout",
     "output_type": "stream",
     "text": [
      "1 x 8 = 8\n",
      "2 x 8 = 16\n",
      "3 x 8 = 24\n",
      "4 x 8 = 32\n",
      "5 x 8 = 40\n",
      "6 x 8 = 48\n",
      "7 x 8 = 56\n",
      "8 x 8 = 64\n",
      "9 x 8 = 72\n",
      "10 x 8 = 80\n"
     ]
    }
   ],
   "source": [
    "# tabuada\n",
    "n = int(input(\"Digite o numero: \"))\n",
    "i = 1\n",
    "while i < 11:\n",
    "    print(i, \"x\", n, \"=\", i*n)\n",
    "    i = i + 1\n",
    "    "
   ]
  },
  {
   "cell_type": "code",
   "execution_count": 9,
   "id": "f6bef2ad-a6cd-470f-9194-c097c2cb599c",
   "metadata": {},
   "outputs": [
    {
     "name": "stdout",
     "output_type": "stream",
     "text": [
      "falso\n"
     ]
    }
   ],
   "source": [
    "x = 0\n",
    "if x:\n",
    "    print(\"verdadeiro\")\n",
    "else:\n",
    "    print(\"falso\")"
   ]
  },
  {
   "cell_type": "code",
   "execution_count": 17,
   "id": "5ab9b768-1965-49b2-a71d-d0a70fdb5367",
   "metadata": {},
   "outputs": [
    {
     "name": "stdout",
     "output_type": "stream",
     "text": [
      "0\n",
      "1\n",
      "2\n",
      "3\n",
      "4\n"
     ]
    }
   ],
   "source": [
    " # Imprimindo os valores no intervalo entre 0 e 5 (exclusive)\n",
    "for contador in range(5):\n",
    "    print(contador)"
   ]
  },
  {
   "cell_type": "code",
   "execution_count": 23,
   "id": "3a381c67-e9b6-47be-8c84-e08838e74a42",
   "metadata": {},
   "outputs": [
    {
     "name": "stdout",
     "output_type": "stream",
     "text": [
      "0\n",
      "2\n",
      "4\n",
      "6\n",
      "8\n",
      "10\n",
      "12\n",
      "14\n",
      "16\n",
      "18\n",
      "20\n",
      "22\n",
      "24\n",
      "26\n",
      "28\n",
      "30\n",
      "32\n",
      "34\n",
      "36\n",
      "38\n",
      "40\n",
      "42\n",
      "44\n",
      "46\n",
      "48\n",
      "50\n",
      "52\n",
      "54\n",
      "56\n",
      "58\n",
      "60\n",
      "62\n",
      "64\n",
      "66\n",
      "68\n",
      "70\n",
      "72\n",
      "74\n",
      "76\n",
      "78\n",
      "80\n",
      "82\n",
      "84\n",
      "86\n",
      "88\n",
      "90\n",
      "92\n",
      "94\n",
      "96\n",
      "98\n",
      "100\n"
     ]
    }
   ],
   "source": [
    "# Listando os números no intervalo entre 0 e 101, com incremento em 2\n",
    "for i in range(0,101,2):\n",
    "    print(i)"
   ]
  },
  {
   "cell_type": "code",
   "execution_count": 25,
   "id": "d3210721-7625-4243-a0d3-4225f6125c89",
   "metadata": {},
   "outputs": [
    {
     "name": "stdout",
     "output_type": "stream",
     "text": [
      "E\n",
      "u\n",
      " \n",
      "v\n",
      "o\n",
      "u\n",
      " \n",
      "d\n",
      "o\n",
      "m\n",
      "i\n",
      "n\n",
      "a\n",
      "r\n",
      " \n",
      "P\n",
      "y\n",
      "t\n",
      "h\n",
      "o\n",
      "n\n",
      "!\n",
      " \n",
      "E\n",
      " \n",
      "s\n",
      "a\n",
      "b\n",
      "e\n",
      "r\n",
      " \n",
      "t\n",
      "u\n",
      "d\n",
      "o\n",
      " \n",
      "s\n",
      "o\n",
      "b\n",
      "r\n",
      "e\n",
      " \n",
      "C\n",
      "i\n",
      "ê\n",
      "n\n",
      "c\n",
      "i\n",
      "a\n",
      " \n",
      "d\n",
      "e\n",
      " \n",
      "D\n",
      "a\n",
      "d\n",
      "o\n",
      "s\n",
      "!\n"
     ]
    }
   ],
   "source": [
    "# Strings também são sequências\n",
    "for caracter in 'Eu vou dominar Python! E saber tudo sobre Ciência de Dados!':\n",
    "    print (caracter)"
   ]
  },
  {
   "cell_type": "code",
   "execution_count": null,
   "id": "c0abe901-94df-4b1c-b31c-350a22d7fc35",
   "metadata": {},
   "outputs": [],
   "source": [
    "# Loops aninhados\n",
    "\n",
    "lista1 = [0,1,2,3,4]\n",
    "lista2 = [1,2,3]\n",
    "\n",
    "# Loop externo\n",
    "for elemento_lista1 in lista1:\n",
    "\n",
    "    # Loop interno\n",
    "    for elemento_lista2 in lista2:\n",
    "\n",
    "        print('\\n', elemento_lista1 * elemento_lista2)\n",
    "\n",
    "    print('----')"
   ]
  },
  {
   "cell_type": "code",
   "execution_count": null,
   "id": "599c1e8b-6633-4e21-a8da-3918609a14e4",
   "metadata": {},
   "outputs": [
    {
     "name": "stdin",
     "output_type": "stream",
     "text": [
      "Digite o peso (kg): 70\n",
      "Digite a altura (metros): 1.67\n"
     ]
    },
    {
     "name": "stdout",
     "output_type": "stream",
     "text": [
      "Imc =  25.099501595611173\n"
     ]
    },
    {
     "name": "stdin",
     "output_type": "stream",
     "text": [
      "Digite o peso (kg): 58\n",
      "Digite a altura (metros): 1.67\n"
     ]
    },
    {
     "name": "stdout",
     "output_type": "stream",
     "text": [
      "Imc =  20.796729893506402\n"
     ]
    },
    {
     "name": "stdin",
     "output_type": "stream",
     "text": [
      "Digite o peso (kg): 78\n",
      "Digite a altura (metros): 1.78\n"
     ]
    },
    {
     "name": "stdout",
     "output_type": "stream",
     "text": [
      "Imc =  24.61810377477591\n"
     ]
    },
    {
     "name": "stdin",
     "output_type": "stream",
     "text": [
      "Digite o peso (kg): 88\n",
      "Digite a altura (metros): 1.67\n"
     ]
    },
    {
     "name": "stdout",
     "output_type": "stream",
     "text": [
      "Imc =  31.553659148768332\n"
     ]
    }
   ],
   "source": [
    "# Com for\n",
    "maior_imc = 0\n",
    "menor_imc = 0\n",
    "soma_a = 0\n",
    "soma_p = 0\n",
    "for i in range(1,5):\n",
    "    peso = float(input(\"Digite o peso (kg):\"))\n",
    "    soma_p = soma_p = peso\n",
    "    altura = float(input(\"Digite a altura (metros):\"))\n",
    "    soma_a = soma_a = altura\n",
    "    imc = peso / (altura * altura)\n",
    "    if imc < menor_imc:\n",
    "        menor_imc = imc\n",
    "    if imc > maior_imc:\n",
    "        maior_imc = imc\n",
    "    print(\"Imc = \", imc)\n",
    "media_p = soma_p / 5\n",
    "media_a = soma_a / 5\n",
    "print(\"O peso médio é: \", media_p)\n",
    "print(\"A altura média é: \", media_a)\n",
    "print(\"O menor imc é: \", menor_imc)\n",
    "print(\"O maior imc é: \", maior_imc)\n",
    "    "
   ]
  },
  {
   "cell_type": "code",
   "execution_count": null,
   "id": "76e7ec1b-0732-447c-abf3-73a56f5fd49a",
   "metadata": {},
   "outputs": [],
   "source": []
  }
 ],
 "metadata": {
  "kernelspec": {
   "display_name": "Python [conda env:base] *",
   "language": "python",
   "name": "conda-base-py"
  },
  "language_info": {
   "codemirror_mode": {
    "name": "ipython",
    "version": 3
   },
   "file_extension": ".py",
   "mimetype": "text/x-python",
   "name": "python",
   "nbconvert_exporter": "python",
   "pygments_lexer": "ipython3",
   "version": "3.12.7"
  }
 },
 "nbformat": 4,
 "nbformat_minor": 5
}
