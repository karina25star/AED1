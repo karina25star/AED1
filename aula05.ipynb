{
 "cells": [
  {
   "cell_type": "code",
   "execution_count": null,
   "id": "a2574648-de11-4b2b-9e69-f21510d35cae",
   "metadata": {},
   "outputs": [],
   "source": [
    "#Exercício 0\n",
    "nome = input(\"Digite seu nome: \")\n",
    "idade = input (\"Digite sua idade: \")\n",
    "print (nome , \"tem\" , idade , \"anos!\")"
   ]
  },
  {
   "cell_type": "code",
   "execution_count": null,
   "id": "3820aa4f-c615-4152-91f0-581c7e7d153e",
   "metadata": {},
   "outputs": [],
   "source": [
    "#Exercicio 1\n",
    "nome = input(\"Digite seu nome:\")\n",
    "print (\"Tenha um bom dia\" , nome , \"!\")"
   ]
  },
  {
   "cell_type": "code",
   "execution_count": null,
   "id": "7e647b2a-55bb-4c0c-bf79-48317ca90815",
   "metadata": {},
   "outputs": [],
   "source": [
    "#Exercicio 2\n",
    "ano_nasc = int (input(\"Digite o ano em que você nasceu:\"))\n",
    "ano_atual = int (input(\"Digite o ano em que estamos:\"))\n",
    "print (\"Você tem\" , (ano_atual - ano_nasc) * 365 , \"dias\")\n",
    "print (\"Você tem\" , (ano_atual - ano_nasc) * 52 , \"semanas\")\n",
    "print (\"Voce tem\" , (ano_atual - ano_nasc) * 12 , \"meses\")\n",
    "print (\"Voce tem\" , (ano_atual - ano_nasc) , \"anos\")\n"
   ]
  },
  {
   "cell_type": "code",
   "execution_count": null,
   "id": "5d9326c9-0622-4f8d-8761-d0186a0fb6f7",
   "metadata": {},
   "outputs": [],
   "source": [
    "#Exercicio 3\n",
    "salario = int(input(\"Digite seu salario:\"))\n",
    "aumento = float(1.25)\n",
    "novo_salario = salario * aumento\n",
    "print (\"O novo salario é:\" , novo_salario)"
   ]
  },
  {
   "cell_type": "code",
   "execution_count": null,
   "id": "7dd37761-b8c4-4272-ae8a-dab28e400bcb",
   "metadata": {},
   "outputs": [],
   "source": [
    "#Exercicio 4\n",
    "salario = int(input(\"Digite seu salario:\"))\n",
    "aumento = float(input(\"Digite seu aumento:\"))\n",
    "novo_salario = salario * aumento\n",
    "print (\"O seu novo salario é:\" , novo_salario)"
   ]
  },
  {
   "cell_type": "code",
   "execution_count": null,
   "id": "2fb14d9e-61bb-4fb0-98ba-12b5f6b22aae",
   "metadata": {},
   "outputs": [],
   "source": [
    "#Exercicio 5\n",
    "deposito = 1000\n",
    "juros = 5\n",
    "rendimento = deposito * (juros / 100)\n",
    "valor_total = deposito + rendimento\n",
    "print (valor_total)"
   ]
  },
  {
   "cell_type": "code",
   "execution_count": null,
   "id": "86cf5406-4c14-4cbc-b096-ea4eb6271841",
   "metadata": {},
   "outputs": [],
   "source": [
    "#Exercicio 6\n",
    "altura = int(input(\"Digite a altura:\"))\n",
    "base = int(input(\"Digite a base:\"))\n",
    "area = base * altura / 2\n",
    "print (\"A area do seu triangulo é\" , area)"
   ]
  },
  {
   "cell_type": "code",
   "execution_count": null,
   "id": "3a26d3e5-15df-433a-8a80-51845177ac20",
   "metadata": {},
   "outputs": [],
   "source": [
    "#Exercicio 7\n",
    "pi = float (3.1415)\n",
    "raio = int(input(\"Digite o raio do círculo:\"))\n",
    "area = pi * raio**2\n",
    "print (\"O raio do seu círculo é\" , area)"
   ]
  },
  {
   "cell_type": "code",
   "execution_count": null,
   "id": "262d80a1-89ee-4959-b88b-a1201da24c40",
   "metadata": {},
   "outputs": [],
   "source": [
    "#Exercicio 8\n",
    "pe = 12\n",
    "jarda = 3 * pe\n",
    "milha = 1760 * jarda\n",
    "\n",
    "distancia_pe = int(input(\"Digite a distancia em pés\"))\n",
    "resultado_polegada = distancia_pe * pe\n",
    "resultado_jarda = distancia_pe * jarda\n",
    "resultado_milha = distancia_pe * milha\n",
    "\n",
    "print (\"Polegadas:\" , resultado_polegada)\n",
    "print (\"Jardas:\" , resultado_jarda)\n",
    "print (\"Milhas:\" , resultado_milha)"
   ]
  },
  {
   "cell_type": "code",
   "execution_count": null,
   "id": "25614822-7fb6-422f-aef7-8d8ad8fabe36",
   "metadata": {},
   "outputs": [],
   "source": [
    "#Exercicio 9\n",
    "altura_degrau_cm = float(input(\"Digite a altura de cada degrau em cm:\"))\n",
    "altura_escada_m = float(input(\"Digite a altura que você quer subir em metros:\"))\n",
    "\n",
    "altura_escada_cm = altura_escada_m * 100\n",
    "\n",
    "numero_degraus = altura_escada_cm / altura_degrau_cm\n",
    "\n",
    "print(\"Você terá que subir\", int(numero_degraus), \"degraus.\")"
   ]
  },
  {
   "cell_type": "code",
   "execution_count": null,
   "id": "0f1c6d22-39be-420e-991f-43af52390a16",
   "metadata": {},
   "outputs": [],
   "source": []
  }
 ],
 "metadata": {
  "kernelspec": {
   "display_name": "Python 3 (ipykernel)",
   "language": "python",
   "name": "python3"
  },
  "language_info": {
   "codemirror_mode": {
    "name": "ipython",
    "version": 3
   },
   "file_extension": ".py",
   "mimetype": "text/x-python",
   "name": "python",
   "nbconvert_exporter": "python",
   "pygments_lexer": "ipython3",
   "version": "3.13.5"
  }
 },
 "nbformat": 4,
 "nbformat_minor": 5
}
